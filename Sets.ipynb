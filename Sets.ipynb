{
 "cells": [
  {
   "cell_type": "code",
   "execution_count": 6,
   "metadata": {},
   "outputs": [
    {
     "name": "stdout",
     "output_type": "stream",
     "text": [
      "{1, 2, 3, 4, 6, 8} {2, 4} {1, 3} {8, 6} {1, 3, 6, 8}\n"
     ]
    }
   ],
   "source": [
    "a = set([1,2,3,4])\n",
    "b = set([2,4,6,8])\n",
    "c = set([1,11])\n",
    "\n",
    "aub = a.union(b)\n",
    "aib = a.intersection(b)\n",
    "adifb = a.difference(b)\n",
    "bdifa = b.difference(a)\n",
    "asdifb = a.symmetric_difference(b)\n",
    "\n",
    "print(aub, aib, adifb, bdifa, asdifb)"
   ]
  },
  {
   "cell_type": "code",
   "execution_count": 7,
   "metadata": {},
   "outputs": [
    {
     "name": "stdout",
     "output_type": "stream",
     "text": [
      "{1, 2, 3, 4, 11} {1} {2, 3, 4} {11} {2, 3, 4, 11}\n"
     ]
    }
   ],
   "source": [
    "auc = a.union(c)\n",
    "aic = a.intersection(c)\n",
    "adifc = a.difference(c)\n",
    "cdifa = c.difference(a)\n",
    "asdifc = a.symmetric_difference(c)\n",
    "\n",
    "print(auc, aic, adifc, cdifa, asdifc)"
   ]
  },
  {
   "cell_type": "code",
   "execution_count": 8,
   "metadata": {},
   "outputs": [
    {
     "name": "stdout",
     "output_type": "stream",
     "text": [
      "{1, 2, 4, 6, 8, 11} set() {8, 2, 4, 6} {1, 11} {1, 2, 4, 6, 8, 11}\n"
     ]
    }
   ],
   "source": [
    "buc = b.union(c)\n",
    "bic = b.intersection(c)\n",
    "bdifc = b.difference(c)\n",
    "cdifb = c.difference(b)\n",
    "bsdifc = b.symmetric_difference(c)\n",
    "\n",
    "print(buc, bic, bdifc, cdifb, bsdifc)"
   ]
  },
  {
   "cell_type": "code",
   "execution_count": null,
   "metadata": {},
   "outputs": [],
   "source": []
  }
 ],
 "metadata": {
  "kernelspec": {
   "display_name": "Python 3",
   "language": "python",
   "name": "python3"
  },
  "language_info": {
   "codemirror_mode": {
    "name": "ipython",
    "version": 3
   },
   "file_extension": ".py",
   "mimetype": "text/x-python",
   "name": "python",
   "nbconvert_exporter": "python",
   "pygments_lexer": "ipython3",
   "version": "3.7.6"
  }
 },
 "nbformat": 4,
 "nbformat_minor": 4
}
